{
 "cells": [
  {
   "cell_type": "code",
   "execution_count": 1,
   "metadata": {},
   "outputs": [],
   "source": [
    "import tensorflow as tf\n",
    "import numpy as np\n",
    "import matplotlib.pyplot as plt\n",
    "import os\n",
    "import pyedflib\n",
    "import numpy as np\n",
    "import matplotlib.pyplot as plt\n",
    "from tensorflow.keras.models import Sequential\n",
    "from tensorflow.keras.layers import Dense, Conv1D, Flatten, Dropout, MaxPooling1D\n",
    "from tensorflow.keras.utils import to_categorical\n",
    "from sklearn.preprocessing import MinMaxScaler\n",
    "from sklearn.model_selection import train_test_split"
   ]
  },
  {
   "cell_type": "code",
   "execution_count": 2,
   "metadata": {},
   "outputs": [
    {
     "data": {
      "text/plain": [
       "44"
      ]
     },
     "execution_count": 2,
     "metadata": {},
     "output_type": "execute_result"
    }
   ],
   "source": [
    "# files to read => chb01_03.edf, chb01_04.edf, chb01_15.edf,  chb01_16.edf,  chb01_18.edf,  chb01_21.edf,  chb01_26.edf,  chb02_16.edf, chb02_19.edf, chb03_01.edf, chb03_02.edf, chb03_03.edf, chb03_04.edf\n",
    "files_to_read = [\n",
    "        'chb01_03.edf',\n",
    "        'chb01_04.edf',\n",
    "        'chb01_15.edf',\n",
    "        'chb01_16.edf',\n",
    "        'chb01_18.edf',\n",
    "        'chb01_21.edf',\n",
    "        'chb01_26.edf',\n",
    "        'chb02_16.edf',\n",
    "        'chb02_19.edf',\n",
    "        'chb03_01.edf',\n",
    "        'chb03_02.edf',\n",
    "        'chb03_03.edf',\n",
    "        'chb03_04.edf',\n",
    "        'chb04_05.edf',\n",
    "        'chb04_28.edf',\n",
    "        'chb05_06.edf',\n",
    "        'chb05_13.edf',\n",
    "        'chb05_16.edf',\n",
    "        'chb05_17.edf',\n",
    "        'chb05_22.edf',\n",
    "        'chb06_04.edf',\n",
    "        'chb06_09.edf',\n",
    "        'chb06_10.edf',\n",
    "        'chb06_13.edf',\n",
    "        'chb06_18.edf',\n",
    "        'chb06_24.edf',\n",
    "        'chb07_12.edf',\n",
    "        'chb07_13.edf',\n",
    "        'chb07_19.edf',\n",
    "        'chb08_02.edf',\n",
    "        'chb08_05.edf',\n",
    "        'chb08_11.edf',\n",
    "        'chb08_13.edf',\n",
    "        'chb08_21.edf',\n",
    "        'chb09_06.edf',\n",
    "        'chb09_08.edf',\n",
    "        'chb09_19.edf',\n",
    "        'chb10_12.edf',\n",
    "        'chb10_20.edf',\n",
    "        'chb10_27.edf',\n",
    "        'chb10_30.edf',\n",
    "        'chb10_31.edf',\n",
    "        'chb10_38.edf',\n",
    "        'chb10_89.edf',\n",
    "        ]\n",
    "seizure_seconds_each_file_start_and_end_seconds = [\n",
    "        ('chb01_03.edf',2996, 3036),\n",
    "        ('chb01_04.edf', 1467, 1494),\n",
    "        ('chb01_15.edf', 1732, 1772),\n",
    "        ('chb01_16.edf',1015, 1066),\n",
    "        ('chb01_18.edf', 1720, 1810),\n",
    "        ('chb01_21.edf', 327, 420),\n",
    "        ('chb01_26.edf', 1862, 1963),\n",
    "        ('chb02_16.edf', 130, 212),\n",
    "        ('chb02_19.edf', 2972, 3053),\n",
    "        ('chb03_01.edf', 362, 414),\n",
    "        ('chb03_02.edf', 731, 796),\n",
    "        ('chb03_03.edf', 432, 501),\n",
    "        ('chb03_04.edf', 2162, 2214),\n",
    "        ('chb04_05.edf', 7804, 7853),\n",
    "        ('chb04_28.edf', 1679, 1781),\n",
    "        ('chb04_28.edf', 3782, 3898),\n",
    "        ('chb05_06.edf', 417, 532),\n",
    "        ('chb05_13.edf', 1086, 1196),\n",
    "        ('chb05_16.edf', 2317, 2413),\n",
    "        ('chb05_17.edf', 2451, 2571),\n",
    "        ('chb05_22.edf', 2348, 2465),\n",
    "        ('chb06_04.edf', 327, 347),\n",
    "        ('chb06_04.edf', 6211, 6231),\n",
    "        ('chb06_09.edf', 12500, 12516),\n",
    "        ('chb06_10.edf', 10833, 10845),\n",
    "        ('chb06_13.edf', 506, 519),\n",
    "        ('chb06_18.edf', 7799, 7811),\n",
    "        ('chb06_24.edf', 9387, 9403),\n",
    "        ('chb07_12.edf', 4920, 5006),\n",
    "        ('chb07_13.edf', 3285, 3381),\n",
    "        ('chb07_19.edf', 13688, 13831),\n",
    "        ('chb08_02.edf', 2670, 2841),\n",
    "        ('chb08_05.edf', 2856, 3046),\n",
    "        ('chb08_11.edf', 2988, 3122),\n",
    "        ('chb08_13.edf', 2417, 2577),\n",
    "        ('chb08_21.edf', 2083, 2347),\n",
    "        ('chb09_06.edf', 12231, 12295),\n",
    "        ('chb09_08.edf', 2951, 3030),\n",
    "        ('chb09_08.edf', 9196, 9267),\n",
    "        ('chb09_19.edf', 5299, 5361),\n",
    "        ('chb10_12.edf', 6313, 6348),\n",
    "        ('chb10_20.edf', 6888, 6958),\n",
    "        ('chb10_27.edf', 2382, 2447),\n",
    "        ('chb10_30.edf', 3021, 3079),\n",
    "        ('chb10_31.edf', 3801, 3877),\n",
    "        ('chb10_38.edf', 4618, 4707),\n",
    "        ('chb10_89.edf', 1383, 1437),\n",
    "        ]\n",
    "signals = []\n",
    "\n",
    "for file in files_to_read:\n",
    "        f = pyedflib.EdfReader(file)\n",
    "        n = f.signals_in_file\n",
    "        signal_labels = f.getSignalLabels()\n",
    "        fz_cz_index = signal_labels.index('FZ-CZ')\n",
    "        cz_pz_index = signal_labels.index('CZ-PZ')\n",
    "        sigbufs = np.zeros((2, f.getNSamples()[0]))\n",
    "        sigbufs[0] = f.readSignal(fz_cz_index)\n",
    "        sigbufs[1] = f.readSignal(cz_pz_index)\n",
    "        signals.append(np.array(sigbufs))\n",
    "        f.close()\n",
    "len(signals)"
   ]
  },
  {
   "cell_type": "code",
   "execution_count": 3,
   "metadata": {},
   "outputs": [],
   "source": [
    "#delete the first 5 percent and last 5 percent of the signal\n",
    "for i in range(len(signals)):\n",
    "    signals[i] = signals[i][:,int(0.05*len(signals[i][0])):int(0.95*len(signals[i][0]))]"
   ]
  },
  {
   "cell_type": "code",
   "execution_count": 4,
   "metadata": {},
   "outputs": [
    {
     "data": {
      "text/plain": [
       "(2, 829440)"
      ]
     },
     "execution_count": 4,
     "metadata": {},
     "output_type": "execute_result"
    }
   ],
   "source": [
    "signals[0].shape"
   ]
  },
  {
   "cell_type": "code",
   "execution_count": 4,
   "metadata": {},
   "outputs": [],
   "source": [
    "shorted_signals = signals[0:20]"
   ]
  },
  {
   "cell_type": "code",
   "execution_count": 6,
   "metadata": {},
   "outputs": [
    {
     "name": "stdout",
     "output_type": "stream",
     "text": [
      "0\n",
      "1\n",
      "2\n",
      "3\n",
      "4\n",
      "5\n",
      "6\n",
      "error in file: \n",
      "6\n",
      "7\n",
      "error in file: \n",
      "7\n",
      "8\n",
      "9\n",
      "10\n",
      "11\n",
      "12\n",
      "13\n",
      "error in file: \n",
      "13\n",
      "14\n",
      "error in file: \n",
      "14\n",
      "15\n",
      "16\n",
      "17\n",
      "18\n",
      "19\n"
     ]
    }
   ],
   "source": [
    "#split each signal into 20 * 256 second windows\n",
    "window_size = 20 * 256\n",
    "windowed_signals = np.zeros((0, 2, window_size))\n",
    "y_labels = []\n",
    "index = 0\n",
    "for signal in shorted_signals:\n",
    "    try:\n",
    "        print(index)\n",
    "        start_time = seizure_seconds_each_file_start_and_end_seconds[index][1]*256\n",
    "        end_time = seizure_seconds_each_file_start_and_end_seconds[index][2]*256\n",
    "        for i in range(0, signal.shape[1], window_size):\n",
    "            windowed_signals = np.append(windowed_signals, np.array([signal[:, i:i+window_size]]), axis=0)\n",
    "            #if i and i+window_size contains seizure time, then label it as 1, otherwise 0\n",
    "            if i in range(start_time, end_time) or i+window_size in range(start_time, end_time):\n",
    "                y_labels.append(1)\n",
    "            else:\n",
    "                y_labels.append(0)\n",
    "        index += 1\n",
    "    except:\n",
    "        print(\"error in file: \")\n",
    "        print(index)\n",
    "        index += 1\n",
    "        continue\n",
    "    "
   ]
  },
  {
   "cell_type": "code",
   "execution_count": 7,
   "metadata": {},
   "outputs": [
    {
     "name": "stdout",
     "output_type": "stream",
     "text": [
      "4240 4240\n"
     ]
    }
   ],
   "source": [
    "print(len(windowed_signals), len(y_labels))"
   ]
  },
  {
   "cell_type": "code",
   "execution_count": 8,
   "metadata": {},
   "outputs": [
    {
     "data": {
      "text/plain": [
       "90"
      ]
     },
     "execution_count": 8,
     "metadata": {},
     "output_type": "execute_result"
    }
   ],
   "source": [
    "sum(y_labels)"
   ]
  },
  {
   "cell_type": "code",
   "execution_count": 9,
   "metadata": {},
   "outputs": [
    {
     "data": {
      "text/plain": [
       "(4240, 2, 5120)"
      ]
     },
     "execution_count": 9,
     "metadata": {},
     "output_type": "execute_result"
    }
   ],
   "source": [
    "windowed_signals.shape"
   ]
  },
  {
   "cell_type": "code",
   "execution_count": 5,
   "metadata": {},
   "outputs": [
    {
     "name": "stdout",
     "output_type": "stream",
     "text": [
      "0\n",
      "1\n",
      "2\n",
      "3\n",
      "4\n",
      "5\n",
      "6\n",
      "7\n",
      "8\n",
      "9\n",
      "10\n",
      "11\n",
      "12\n",
      "13\n",
      "14\n",
      "15\n",
      "error in file: \n",
      "15\n",
      "16\n",
      "17\n",
      "18\n",
      "19\n",
      "20\n",
      "21\n",
      "22\n",
      "23\n",
      "24\n",
      "error in file: \n",
      "24\n",
      "25\n",
      "26\n",
      "27\n",
      "error in file: \n",
      "27\n",
      "28\n",
      "29\n",
      "error in file: \n",
      "29\n",
      "30\n",
      "error in file: \n",
      "30\n",
      "31\n",
      "32\n",
      "33\n",
      "34\n",
      "35\n",
      "36\n",
      "error in file: \n",
      "36\n",
      "37\n",
      "38\n",
      "error in file: \n",
      "38\n",
      "39\n",
      "40\n",
      "41\n",
      "error in file: \n",
      "41\n",
      "42\n",
      "43\n"
     ]
    }
   ],
   "source": [
    "#loop only in seizure time\n",
    "\n",
    "window_size = 5 * 256\n",
    "seizure_data_signals = np.zeros((0, 2, window_size))\n",
    "seizure_data_y_labels = []\n",
    "\n",
    "for i in range(len(signals)):\n",
    "    try:\n",
    "        print(i)\n",
    "        start_time = seizure_seconds_each_file_start_and_end_seconds[i][1]*256\n",
    "        end_time = seizure_seconds_each_file_start_and_end_seconds[i][2]*256\n",
    "        for j in range(start_time, end_time, 256):\n",
    "            seizure_data_signals = np.append(seizure_data_signals, np.array([signals[i][:, j:j+window_size]]), axis=0)\n",
    "            seizure_data_y_labels.append(1)\n",
    "    except:\n",
    "        print(\"error in file: \")\n",
    "        print(i)\n",
    "        continue"
   ]
  },
  {
   "cell_type": "code",
   "execution_count": 6,
   "metadata": {},
   "outputs": [
    {
     "data": {
      "text/plain": [
       "2937"
      ]
     },
     "execution_count": 6,
     "metadata": {},
     "output_type": "execute_result"
    }
   ],
   "source": [
    "len(seizure_data_y_labels)"
   ]
  },
  {
   "cell_type": "code",
   "execution_count": 85,
   "metadata": {},
   "outputs": [
    {
     "name": "stdout",
     "output_type": "stream",
     "text": [
      "0\n",
      "1\n",
      "2\n",
      "3\n",
      "4\n",
      "5\n",
      "6\n",
      "7\n",
      "8\n",
      "9\n",
      "10\n",
      "11\n",
      "12\n",
      "13\n",
      "14\n",
      "15\n",
      "16\n",
      "17\n",
      "18\n",
      "19\n",
      "20\n",
      "21\n",
      "22\n",
      "23\n",
      "24\n",
      "25\n",
      "26\n",
      "27\n",
      "28\n",
      "29\n"
     ]
    },
    {
     "data": {
      "text/plain": [
       "10083"
      ]
     },
     "execution_count": 85,
     "metadata": {},
     "output_type": "execute_result"
    }
   ],
   "source": [
    "#loop only in non-seizure time and get 10000 random windows\n",
    "\n",
    "window_size = 5 * 256\n",
    "non_seizure_data_signals = np.zeros((0, 2, window_size))\n",
    "non_seizure_data_y_labels = []\n",
    "\n",
    "for i in range(len(signals)):\n",
    "    print(i)\n",
    "    start_time = seizure_seconds_each_file_start_and_end_seconds[i][1]*256\n",
    "    end_time = seizure_seconds_each_file_start_and_end_seconds[i][2]*256\n",
    "    #a integer random jump between 0 and 50\n",
    "    random_jumps = np.random.randint(1, 50)\n",
    "    for j in range(0, signals[i].shape[1], random_jumps*256):\n",
    "        random_jumps = np.random.randint(1, 50)\n",
    "        if j in range(start_time, end_time) or j+window_size in range(start_time, end_time):\n",
    "            continue\n",
    "        else:\n",
    "            if j + window_size > signals[i].shape[1]:\n",
    "                break\n",
    "            non_seizure_data_signals = np.append(non_seizure_data_signals, np.array([signals[i][:, j:j+window_size]]), axis=0)\n",
    "            non_seizure_data_y_labels.append(0)\n",
    "    if len(non_seizure_data_y_labels) > 10000:\n",
    "        break\n",
    "len(non_seizure_data_y_labels)\n"
   ]
  },
  {
   "cell_type": "code",
   "execution_count": 86,
   "metadata": {},
   "outputs": [
    {
     "data": {
      "text/plain": [
       "10083"
      ]
     },
     "execution_count": 86,
     "metadata": {},
     "output_type": "execute_result"
    }
   ],
   "source": [
    "len(non_seizure_data_y_labels)"
   ]
  },
  {
   "cell_type": "code",
   "execution_count": 87,
   "metadata": {},
   "outputs": [],
   "source": [
    "final_signals = np.append(seizure_data_signals, non_seizure_data_signals, axis=0)\n",
    "final_y_labels = np.append(seizure_data_y_labels, non_seizure_data_y_labels, axis=0)"
   ]
  },
  {
   "cell_type": "code",
   "execution_count": 88,
   "metadata": {},
   "outputs": [
    {
     "name": "stdout",
     "output_type": "stream",
     "text": [
      "(13020, 2, 1280) (13020,)\n"
     ]
    }
   ],
   "source": [
    "print(final_signals.shape, final_y_labels.shape)"
   ]
  },
  {
   "cell_type": "code",
   "execution_count": 89,
   "metadata": {},
   "outputs": [
    {
     "data": {
      "text/plain": [
       "(13020, 2, 1280)"
      ]
     },
     "execution_count": 89,
     "metadata": {},
     "output_type": "execute_result"
    }
   ],
   "source": [
    "#normalize the signals with MinMaxScaler\n",
    "from sklearn.preprocessing import MinMaxScaler\n",
    "scaler = MinMaxScaler()\n",
    "final_signals = scaler.fit_transform(final_signals.reshape(-1, 2*window_size)).reshape(-1, 2, window_size)\n",
    "final_signals.shape"
   ]
  },
  {
   "cell_type": "code",
   "execution_count": 90,
   "metadata": {},
   "outputs": [
    {
     "data": {
      "text/plain": [
       "[<matplotlib.lines.Line2D at 0x19b2c778f40>,\n",
       " <matplotlib.lines.Line2D at 0x19b2c778fa0>]"
      ]
     },
     "execution_count": 90,
     "metadata": {},
     "output_type": "execute_result"
    },
    {
     "data": {
      "image/png": "[encoded data removed]",
      "text/plain": [
       "<Figure size 640x480 with 1 Axes>"
      ]
     },
     "metadata": {},
     "output_type": "display_data"
    }
   ],
   "source": [
    "var = np.var(final_signals, axis=2)\n",
    "plt.plot(var)"
   ]
  },
  {
   "cell_type": "code",
   "execution_count": 93,
   "metadata": {},
   "outputs": [
    {
     "data": {
      "text/plain": [
       "(13020, 2, 1280)"
      ]
     },
     "execution_count": 93,
     "metadata": {},
     "output_type": "execute_result"
    }
   ],
   "source": [
    "fft = np.fft.fft(final_signals, axis=2)\n",
    "fft.shape"
   ]
  },
  {
   "cell_type": "code",
   "execution_count": 94,
   "metadata": {},
   "outputs": [
    {
     "data": {
      "text/plain": [
       "[<matplotlib.lines.Line2D at 0x19b80f7f100>,\n",
       " <matplotlib.lines.Line2D at 0x19b80f7f160>]"
      ]
     },
     "execution_count": 94,
     "metadata": {},
     "output_type": "execute_result"
    },
    {
     "data": {
      "image/png": "[encoded data removed]",
      "text/plain": [
       "<Figure size 640x480 with 1 Axes>"
      ]
     },
     "metadata": {},
     "output_type": "display_data"
    }
   ],
   "source": [
    "fft_var = np.var(fft, axis=2)\n",
    "plt.plot(fft_var)"
   ]
  },
  {
   "cell_type": "code",
   "execution_count": 95,
   "metadata": {},
   "outputs": [
    {
     "data": {
      "text/plain": [
       "[<matplotlib.lines.Line2D at 0x19b80fe8ca0>,\n",
       " <matplotlib.lines.Line2D at 0x19b80fe8d00>]"
      ]
     },
     "execution_count": 95,
     "metadata": {},
     "output_type": "execute_result"
    },
    {
     "data": {
      "image/png": "[encoded data removed]",
      "text/plain": [
       "<Figure size 640x480 with 1 Axes>"
      ]
     },
     "metadata": {},
     "output_type": "display_data"
    }
   ],
   "source": [
    "energy = np.sum(np.square(final_signals), axis=2)\n",
    "plt.plot(energy)"
   ]
  },
  {
   "cell_type": "code",
   "execution_count": 99,
   "metadata": {},
   "outputs": [
    {
     "data": {
      "text/plain": [
       "[<matplotlib.lines.Line2D at 0x19b82d25bd0>,\n",
       " <matplotlib.lines.Line2D at 0x19b82d25c30>]"
      ]
     },
     "execution_count": 99,
     "metadata": {},
     "output_type": "execute_result"
    },
    {
     "data": {
      "image/png": "[encoded data removed]",
      "text/plain": [
       "<Figure size 640x480 with 1 Axes>"
      ]
     },
     "metadata": {},
     "output_type": "display_data"
    }
   ],
   "source": [
    "#complexity\n",
    "complexity = np.sum(np.square(np.abs(np.diff(fft, axis=2))), axis=2)\n",
    "plt.plot(complexity)"
   ]
  },
  {
   "cell_type": "code",
   "execution_count": 104,
   "metadata": {},
   "outputs": [
    {
     "data": {
      "text/plain": [
       "(13020, 8)"
      ]
     },
     "execution_count": 104,
     "metadata": {},
     "output_type": "execute_result"
    }
   ],
   "source": [
    "features = np.concatenate((var, fft_var, energy, complexity), axis=1)\n",
    "features.shape"
   ]
  },
  {
   "cell_type": "code",
   "execution_count": 107,
   "metadata": {},
   "outputs": [
    {
     "name": "stdout",
     "output_type": "stream",
     "text": [
      "0.772273425499232\n"
     ]
    }
   ],
   "source": [
    "#random forest classifier\n",
    "from sklearn.ensemble import RandomForestClassifier\n",
    "from sklearn.model_selection import train_test_split\n",
    "from sklearn.metrics import accuracy_score\n",
    "\n",
    "\n",
    "X_train, X_test, y_train, y_test = train_test_split(features, final_y_labels, test_size=0.2, random_state=42)\n",
    "\n",
    "clf = RandomForestClassifier(n_estimators=100, max_depth=2, random_state=0)\n",
    "clf.fit(X_train, y_train)\n",
    "y_pred = clf.predict(X_test)\n",
    "print(accuracy_score(y_test, y_pred))"
   ]
  },
  {
   "cell_type": "code",
   "execution_count": 109,
   "metadata": {},
   "outputs": [
    {
     "name": "stdout",
     "output_type": "stream",
     "text": [
      "0.7695852534562212\n"
     ]
    }
   ],
   "source": [
    "#random forest classifier\n",
    "from sklearn.ensemble import RandomForestClassifier\n",
    "from sklearn.model_selection import train_test_split\n",
    "from sklearn.metrics import accuracy_score\n",
    "\n",
    "#use just one channel of the signals\n",
    "final_signals_one_channel = final_signals[:, 0, :]\n",
    "\n",
    "X_train, X_test, y_train, y_test = train_test_split(final_signals_one_channel, final_y_labels, test_size=0.2, random_state=42)\n",
    "\n",
    "clf = RandomForestClassifier(n_estimators=100, max_depth=2, random_state=0)\n",
    "clf.fit(X_train, y_train)\n",
    "y_pred = clf.predict(X_test)\n",
    "print(accuracy_score(y_test, y_pred))"
   ]
  },
  {
   "cell_type": "code",
   "execution_count": 110,
   "metadata": {},
   "outputs": [],
   "source": [
    "#split the data into train and test\n",
    "X_train, X_test, y_train, y_test = train_test_split(final_signals, final_y_labels, random_state=42)"
   ]
  },
  {
   "cell_type": "code",
   "execution_count": 111,
   "metadata": {},
   "outputs": [
    {
     "data": {
      "text/plain": [
       "(9765, 2, 1280)"
      ]
     },
     "execution_count": 111,
     "metadata": {},
     "output_type": "execute_result"
    }
   ],
   "source": [
    "X_train.shape"
   ]
  },
  {
   "cell_type": "code",
   "execution_count": 112,
   "metadata": {},
   "outputs": [],
   "source": [
    "#one hot encode target column\n",
    "y_train_categorical = to_categorical(y_train)\n",
    "y_test_categorical = to_categorical(y_test)"
   ]
  },
  {
   "cell_type": "code",
   "execution_count": 113,
   "metadata": {},
   "outputs": [
    {
     "name": "stdout",
     "output_type": "stream",
     "text": [
      "Model: \"sequential_4\"\n",
      "_________________________________________________________________\n",
      " Layer (type)                Output Shape              Param #   \n",
      "=================================================================\n",
      " conv1d_12 (Conv1D)          (None, 1271, 256)         5376      \n",
      "                                                                 \n",
      " max_pooling1d_10 (MaxPoolin  (None, 635, 256)         0         \n",
      " g1D)                                                            \n",
      "                                                                 \n",
      " conv1d_13 (Conv1D)          (None, 626, 128)          327808    \n",
      "                                                                 \n",
      " conv1d_14 (Conv1D)          (None, 617, 128)          163968    \n",
      "                                                                 \n",
      " flatten_4 (Flatten)         (None, 78976)             0         \n",
      "                                                                 \n",
      " dense_8 (Dense)             (None, 50)                3948850   \n",
      "                                                                 \n",
      " dense_9 (Dense)             (None, 2)                 102       \n",
      "                                                                 \n",
      "=================================================================\n",
      "Total params: 4,446,104\n",
      "Trainable params: 4,446,104\n",
      "Non-trainable params: 0\n",
      "_________________________________________________________________\n"
     ]
    }
   ],
   "source": [
    "#now lets make the model\n",
    "model = Sequential()\n",
    "model.add(Conv1D(filters=256, kernel_size=10, activation='relu', input_shape=(1280, 2)))\n",
    "model.add(MaxPooling1D(pool_size=2))\n",
    "# model.add(Dropout(0.3))\n",
    "model.add(Conv1D(filters=128, kernel_size=10, activation='relu'))\n",
    "# model.add(MaxPooling1D(pool_size=2))\n",
    "# model.add(Dropout(0.3))\n",
    "model.add(Conv1D(filters=128, kernel_size=10, activation='relu'))\n",
    "# model.add(MaxPooling1D(pool_size=2))\n",
    "# model.add(Dropout(0.3))\n",
    "model.add(Flatten())\n",
    "model.add(Dense(50, activation='relu'))\n",
    "model.add(Dense(2, activation='softmax'))\n",
    "model.summary()\n",
    "\n",
    "model.compile(optimizer='adam',\n",
    "                loss='categorical_crossentropy',\n",
    "                metrics=['accuracy'])"
   ]
  },
  {
   "cell_type": "code",
   "execution_count": 114,
   "metadata": {},
   "outputs": [],
   "source": [
    "X_train = X_train.reshape(X_train.shape[0], 1280, 2)\n",
    "X_test = X_test.reshape(X_test.shape[0], 1280, 2)"
   ]
  },
  {
   "cell_type": "code",
   "execution_count": 115,
   "metadata": {},
   "outputs": [
    {
     "data": {
      "text/plain": [
       "(9765, 1280, 2)"
      ]
     },
     "execution_count": 115,
     "metadata": {},
     "output_type": "execute_result"
    }
   ],
   "source": [
    "X_train = X_train.astype('float32')\n",
    "X_test = X_test.astype('float32')\n",
    "X_train.shape"
   ]
  },
  {
   "cell_type": "code",
   "execution_count": 116,
   "metadata": {},
   "outputs": [
    {
     "data": {
      "text/plain": [
       "(9765, 1280, 2)"
      ]
     },
     "execution_count": 116,
     "metadata": {},
     "output_type": "execute_result"
    }
   ],
   "source": [
    "X_train.shape"
   ]
  },
  {
   "cell_type": "code",
   "execution_count": 117,
   "metadata": {},
   "outputs": [
    {
     "name": "stdout",
     "output_type": "stream",
     "text": [
      "Epoch 1/10\n",
      "306/306 - 208s - loss: 0.5470 - accuracy: 0.7748 - 208s/epoch - 680ms/step\n",
      "Epoch 2/10\n",
      "306/306 - 182s - loss: 0.5368 - accuracy: 0.7760 - 182s/epoch - 595ms/step\n",
      "Epoch 3/10\n",
      "306/306 - 200s - loss: 0.5332 - accuracy: 0.7759 - 200s/epoch - 653ms/step\n",
      "Epoch 4/10\n",
      "306/306 - 192s - loss: 0.5312 - accuracy: 0.7782 - 192s/epoch - 626ms/step\n",
      "Epoch 5/10\n",
      "306/306 - 211s - loss: 0.5274 - accuracy: 0.7806 - 211s/epoch - 691ms/step\n",
      "Epoch 6/10\n",
      "306/306 - 200s - loss: 0.5258 - accuracy: 0.7804 - 200s/epoch - 654ms/step\n",
      "Epoch 7/10\n",
      "306/306 - 195s - loss: 0.5237 - accuracy: 0.7808 - 195s/epoch - 639ms/step\n",
      "Epoch 8/10\n",
      "306/306 - 195s - loss: 0.5373 - accuracy: 0.7764 - 195s/epoch - 637ms/step\n",
      "Epoch 9/10\n",
      "306/306 - 192s - loss: 0.5262 - accuracy: 0.7805 - 192s/epoch - 629ms/step\n",
      "Epoch 10/10\n",
      "306/306 - 183s - loss: 0.5212 - accuracy: 0.7819 - 183s/epoch - 597ms/step\n"
     ]
    },
    {
     "data": {
      "text/plain": [
       "<keras.callbacks.History at 0x19b800f37c0>"
      ]
     },
     "execution_count": 117,
     "metadata": {},
     "output_type": "execute_result"
    }
   ],
   "source": [
    "model.fit(\n",
    "    X_train,\n",
    "    y_train_categorical,\n",
    "    epochs=10,\n",
    "    shuffle=True,\n",
    "    verbose=2\n",
    ")"
   ]
  },
  {
   "cell_type": "code",
   "execution_count": 118,
   "metadata": {},
   "outputs": [
    {
     "name": "stdout",
     "output_type": "stream",
     "text": [
      "102/102 - 10s - loss: 0.5449 - accuracy: 0.7724 - 10s/epoch - 102ms/step\n",
      "Normal Neural Network - Loss: 0.544857382774353, Accuracy: 0.7723502516746521\n"
     ]
    }
   ],
   "source": [
    "#evaluate the model\n",
    "model_loss, model_accuracy = model.evaluate(\n",
    "    X_test, y_test_categorical, verbose=2)\n",
    "print(\n",
    "    f\"Normal Neural Network - Loss: {model_loss}, Accuracy: {model_accuracy}\")"
   ]
  },
  {
   "cell_type": "code",
   "execution_count": 119,
   "metadata": {},
   "outputs": [
    {
     "name": "stdout",
     "output_type": "stream",
     "text": [
      "102/102 [==============================] - 13s 126ms/step\n",
      "              precision    recall  f1-score   support\n",
      "\n",
      "           0       0.77      1.00      0.87      2505\n",
      "           1       0.68      0.02      0.04       750\n",
      "\n",
      "    accuracy                           0.77      3255\n",
      "   macro avg       0.73      0.51      0.46      3255\n",
      "weighted avg       0.75      0.77      0.68      3255\n",
      "\n"
     ]
    }
   ],
   "source": [
    "#model recall and f1 score and precision\n",
    "from sklearn.metrics import classification_report\n",
    "\n",
    "y_pred = model.predict(X_test)\n",
    "y_pred = np.argmax(y_pred, axis=1)\n",
    "y_test = np.argmax(y_test_categorical, axis=1)\n",
    "print(classification_report(y_test, y_pred))"
   ]
  },
  {
   "cell_type": "code",
   "execution_count": 120,
   "metadata": {},
   "outputs": [
    {
     "data": {
      "image/png": "[encoded data removed]",
      "text/plain": [
       "<Figure size 1000x1000 with 2 Axes>"
      ]
     },
     "metadata": {},
     "output_type": "display_data"
    }
   ],
   "source": [
    "#plot confusion matrix\n",
    "from sklearn.metrics import confusion_matrix\n",
    "import seaborn as sns\n",
    "\n",
    "cm = confusion_matrix(y_test, y_pred)\n",
    "plt.figure(figsize=(10,10))\n",
    "sns.heatmap(cm, annot=True, fmt=\"d\")\n",
    "plt.title(\"Confusion matrix\")\n",
    "plt.ylabel('True label')\n",
    "plt.xlabel('Predicted label')\n",
    "plt.show()"
   ]
  },
  {
   "cell_type": "code",
   "execution_count": 121,
   "metadata": {},
   "outputs": [
    {
     "name": "stdout",
     "output_type": "stream",
     "text": [
      "false alarm rate:  0.32\n",
      "missed detection rate:  0.22693498452012384\n"
     ]
    }
   ],
   "source": [
    "#false alarm rate\n",
    "false_alarm_rate = cm[0][1]/(cm[0][1]+cm[1][1])\n",
    "print(\"false alarm rate: \", false_alarm_rate)\n",
    "\n",
    "#missed detection rate\n",
    "missed_detection_rate = cm[1][0]/(cm[1][0]+cm[0][0])\n",
    "print(\"missed detection rate: \", missed_detection_rate)"
   ]
  },
  {
   "cell_type": "code",
   "execution_count": null,
   "metadata": {},
   "outputs": [],
   "source": [
    "model.save(\"model1.h5\")"
   ]
  }
 ],
 "metadata": {
  "kernelspec": {
   "display_name": "Python 3",
   "language": "python",
   "name": "python3"
  },
  "language_info": {
   "codemirror_mode": {
    "name": "ipython",
    "version": 3
   },
   "file_extension": ".py",
   "mimetype": "text/x-python",
   "name": "python",
   "nbconvert_exporter": "python",
   "pygments_lexer": "ipython3",
   "version": "3.10.4"
  },
  "orig_nbformat": 4,
  "vscode": {
   "interpreter": {
    "hash": "369f2c481f4da34e4445cda3fffd2e751bd1c4d706f27375911949ba6bb62e1c"
   }
  }
 },
 "nbformat": 4,
 "nbformat_minor": 2
}
